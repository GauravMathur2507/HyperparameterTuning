{
 "cells": [
  {
   "cell_type": "markdown",
   "id": "a5815262",
   "metadata": {},
   "source": [
    "# HyperParameter Tuning"
   ]
  },
  {
   "cell_type": "code",
   "execution_count": 1,
   "id": "c38441fa",
   "metadata": {},
   "outputs": [],
   "source": [
    "import pandas as pd\n",
    "import numpy as np\n",
    "import matplotlib.pyplot as plt\n",
    "import seaborn as sns"
   ]
  },
  {
   "cell_type": "code",
   "execution_count": 8,
   "id": "46f73f6f",
   "metadata": {},
   "outputs": [],
   "source": [
    "import warnings\n",
    "warnings.filterwarnings('ignore')"
   ]
  },
  {
   "cell_type": "code",
   "execution_count": 9,
   "id": "8dd64fba",
   "metadata": {},
   "outputs": [
    {
     "data": {
      "text/html": [
       "<div>\n",
       "<style scoped>\n",
       "    .dataframe tbody tr th:only-of-type {\n",
       "        vertical-align: middle;\n",
       "    }\n",
       "\n",
       "    .dataframe tbody tr th {\n",
       "        vertical-align: top;\n",
       "    }\n",
       "\n",
       "    .dataframe thead th {\n",
       "        text-align: right;\n",
       "    }\n",
       "</style>\n",
       "<table border=\"1\" class=\"dataframe\">\n",
       "  <thead>\n",
       "    <tr style=\"text-align: right;\">\n",
       "      <th></th>\n",
       "      <th>Pregnancies</th>\n",
       "      <th>Glucose</th>\n",
       "      <th>BloodPressure</th>\n",
       "      <th>SkinThickness</th>\n",
       "      <th>Insulin</th>\n",
       "      <th>BMI</th>\n",
       "      <th>DiabetesPedigreeFunction</th>\n",
       "      <th>Age</th>\n",
       "      <th>Outcome</th>\n",
       "    </tr>\n",
       "  </thead>\n",
       "  <tbody>\n",
       "    <tr>\n",
       "      <th>0</th>\n",
       "      <td>6</td>\n",
       "      <td>148</td>\n",
       "      <td>72</td>\n",
       "      <td>35</td>\n",
       "      <td>0</td>\n",
       "      <td>33.6</td>\n",
       "      <td>0.627</td>\n",
       "      <td>50</td>\n",
       "      <td>1</td>\n",
       "    </tr>\n",
       "    <tr>\n",
       "      <th>1</th>\n",
       "      <td>1</td>\n",
       "      <td>85</td>\n",
       "      <td>66</td>\n",
       "      <td>29</td>\n",
       "      <td>0</td>\n",
       "      <td>26.6</td>\n",
       "      <td>0.351</td>\n",
       "      <td>31</td>\n",
       "      <td>0</td>\n",
       "    </tr>\n",
       "    <tr>\n",
       "      <th>2</th>\n",
       "      <td>8</td>\n",
       "      <td>183</td>\n",
       "      <td>64</td>\n",
       "      <td>0</td>\n",
       "      <td>0</td>\n",
       "      <td>23.3</td>\n",
       "      <td>0.672</td>\n",
       "      <td>32</td>\n",
       "      <td>1</td>\n",
       "    </tr>\n",
       "    <tr>\n",
       "      <th>3</th>\n",
       "      <td>1</td>\n",
       "      <td>89</td>\n",
       "      <td>66</td>\n",
       "      <td>23</td>\n",
       "      <td>94</td>\n",
       "      <td>28.1</td>\n",
       "      <td>0.167</td>\n",
       "      <td>21</td>\n",
       "      <td>0</td>\n",
       "    </tr>\n",
       "    <tr>\n",
       "      <th>4</th>\n",
       "      <td>0</td>\n",
       "      <td>137</td>\n",
       "      <td>40</td>\n",
       "      <td>35</td>\n",
       "      <td>168</td>\n",
       "      <td>43.1</td>\n",
       "      <td>2.288</td>\n",
       "      <td>33</td>\n",
       "      <td>1</td>\n",
       "    </tr>\n",
       "  </tbody>\n",
       "</table>\n",
       "</div>"
      ],
      "text/plain": [
       "   Pregnancies  Glucose  BloodPressure  SkinThickness  Insulin   BMI  \\\n",
       "0            6      148             72             35        0  33.6   \n",
       "1            1       85             66             29        0  26.6   \n",
       "2            8      183             64              0        0  23.3   \n",
       "3            1       89             66             23       94  28.1   \n",
       "4            0      137             40             35      168  43.1   \n",
       "\n",
       "   DiabetesPedigreeFunction  Age  Outcome  \n",
       "0                     0.627   50        1  \n",
       "1                     0.351   31        0  \n",
       "2                     0.672   32        1  \n",
       "3                     0.167   21        0  \n",
       "4                     2.288   33        1  "
      ]
     },
     "execution_count": 9,
     "metadata": {},
     "output_type": "execute_result"
    }
   ],
   "source": [
    "df = pd.read_csv('diabetes.csv')\n",
    "df.head()"
   ]
  },
  {
   "cell_type": "code",
   "execution_count": 10,
   "id": "e0506509",
   "metadata": {},
   "outputs": [],
   "source": [
    "df['Glucose'] = np.where(df['Glucose']==0, df['Glucose'].median(), df['Glucose'])\n",
    "df['Insulin'] = np.where(df['Insulin']==0, df['Insulin'].median(), df['Insulin'])\n",
    "df['SkinThickness'] = np.where(df['SkinThickness']==0, df['SkinThickness'].median(), df['SkinThickness'])"
   ]
  },
  {
   "cell_type": "code",
   "execution_count": 11,
   "id": "7ca17069",
   "metadata": {},
   "outputs": [
    {
     "data": {
      "text/html": [
       "<div>\n",
       "<style scoped>\n",
       "    .dataframe tbody tr th:only-of-type {\n",
       "        vertical-align: middle;\n",
       "    }\n",
       "\n",
       "    .dataframe tbody tr th {\n",
       "        vertical-align: top;\n",
       "    }\n",
       "\n",
       "    .dataframe thead th {\n",
       "        text-align: right;\n",
       "    }\n",
       "</style>\n",
       "<table border=\"1\" class=\"dataframe\">\n",
       "  <thead>\n",
       "    <tr style=\"text-align: right;\">\n",
       "      <th></th>\n",
       "      <th>Pregnancies</th>\n",
       "      <th>Glucose</th>\n",
       "      <th>BloodPressure</th>\n",
       "      <th>SkinThickness</th>\n",
       "      <th>Insulin</th>\n",
       "      <th>BMI</th>\n",
       "      <th>DiabetesPedigreeFunction</th>\n",
       "      <th>Age</th>\n",
       "      <th>Outcome</th>\n",
       "    </tr>\n",
       "  </thead>\n",
       "  <tbody>\n",
       "  </tbody>\n",
       "</table>\n",
       "</div>"
      ],
      "text/plain": [
       "Empty DataFrame\n",
       "Columns: [Pregnancies, Glucose, BloodPressure, SkinThickness, Insulin, BMI, DiabetesPedigreeFunction, Age, Outcome]\n",
       "Index: []"
      ]
     },
     "execution_count": 11,
     "metadata": {},
     "output_type": "execute_result"
    }
   ],
   "source": [
    "df.loc[df['Glucose']==0]"
   ]
  },
  {
   "cell_type": "code",
   "execution_count": 12,
   "id": "492a7400",
   "metadata": {},
   "outputs": [],
   "source": [
    "X = df.drop(columns = ['Outcome'])"
   ]
  },
  {
   "cell_type": "code",
   "execution_count": 13,
   "id": "5c74171a",
   "metadata": {},
   "outputs": [],
   "source": [
    "y = df['Outcome']"
   ]
  },
  {
   "cell_type": "code",
   "execution_count": 14,
   "id": "e8ef1de7",
   "metadata": {},
   "outputs": [],
   "source": [
    "from sklearn.model_selection import train_test_split\n",
    "X_train, X_test, y_train, y_test = train_test_split(X, y, test_size = 0.3)"
   ]
  },
  {
   "cell_type": "code",
   "execution_count": 10,
   "id": "2c7d6e82",
   "metadata": {},
   "outputs": [
    {
     "data": {
      "text/html": [
       "<div>\n",
       "<style scoped>\n",
       "    .dataframe tbody tr th:only-of-type {\n",
       "        vertical-align: middle;\n",
       "    }\n",
       "\n",
       "    .dataframe tbody tr th {\n",
       "        vertical-align: top;\n",
       "    }\n",
       "\n",
       "    .dataframe thead th {\n",
       "        text-align: right;\n",
       "    }\n",
       "</style>\n",
       "<table border=\"1\" class=\"dataframe\">\n",
       "  <thead>\n",
       "    <tr style=\"text-align: right;\">\n",
       "      <th></th>\n",
       "      <th>Pregnancies</th>\n",
       "      <th>Glucose</th>\n",
       "      <th>BloodPressure</th>\n",
       "      <th>SkinThickness</th>\n",
       "      <th>Insulin</th>\n",
       "      <th>BMI</th>\n",
       "      <th>DiabetesPedigreeFunction</th>\n",
       "      <th>Age</th>\n",
       "      <th>Outcome</th>\n",
       "    </tr>\n",
       "  </thead>\n",
       "  <tbody>\n",
       "    <tr>\n",
       "      <th>0</th>\n",
       "      <td>6</td>\n",
       "      <td>148.0</td>\n",
       "      <td>72</td>\n",
       "      <td>35.0</td>\n",
       "      <td>30.5</td>\n",
       "      <td>33.6</td>\n",
       "      <td>0.627</td>\n",
       "      <td>50</td>\n",
       "      <td>1</td>\n",
       "    </tr>\n",
       "    <tr>\n",
       "      <th>1</th>\n",
       "      <td>1</td>\n",
       "      <td>85.0</td>\n",
       "      <td>66</td>\n",
       "      <td>29.0</td>\n",
       "      <td>30.5</td>\n",
       "      <td>26.6</td>\n",
       "      <td>0.351</td>\n",
       "      <td>31</td>\n",
       "      <td>0</td>\n",
       "    </tr>\n",
       "    <tr>\n",
       "      <th>2</th>\n",
       "      <td>8</td>\n",
       "      <td>183.0</td>\n",
       "      <td>64</td>\n",
       "      <td>23.0</td>\n",
       "      <td>30.5</td>\n",
       "      <td>23.3</td>\n",
       "      <td>0.672</td>\n",
       "      <td>32</td>\n",
       "      <td>1</td>\n",
       "    </tr>\n",
       "    <tr>\n",
       "      <th>3</th>\n",
       "      <td>1</td>\n",
       "      <td>89.0</td>\n",
       "      <td>66</td>\n",
       "      <td>23.0</td>\n",
       "      <td>94.0</td>\n",
       "      <td>28.1</td>\n",
       "      <td>0.167</td>\n",
       "      <td>21</td>\n",
       "      <td>0</td>\n",
       "    </tr>\n",
       "    <tr>\n",
       "      <th>4</th>\n",
       "      <td>0</td>\n",
       "      <td>137.0</td>\n",
       "      <td>40</td>\n",
       "      <td>35.0</td>\n",
       "      <td>168.0</td>\n",
       "      <td>43.1</td>\n",
       "      <td>2.288</td>\n",
       "      <td>33</td>\n",
       "      <td>1</td>\n",
       "    </tr>\n",
       "  </tbody>\n",
       "</table>\n",
       "</div>"
      ],
      "text/plain": [
       "   Pregnancies  Glucose  BloodPressure  SkinThickness  Insulin   BMI  \\\n",
       "0            6    148.0             72           35.0     30.5  33.6   \n",
       "1            1     85.0             66           29.0     30.5  26.6   \n",
       "2            8    183.0             64           23.0     30.5  23.3   \n",
       "3            1     89.0             66           23.0     94.0  28.1   \n",
       "4            0    137.0             40           35.0    168.0  43.1   \n",
       "\n",
       "   DiabetesPedigreeFunction  Age  Outcome  \n",
       "0                     0.627   50        1  \n",
       "1                     0.351   31        0  \n",
       "2                     0.672   32        1  \n",
       "3                     0.167   21        0  \n",
       "4                     2.288   33        1  "
      ]
     },
     "execution_count": 10,
     "metadata": {},
     "output_type": "execute_result"
    }
   ],
   "source": [
    "df.head()"
   ]
  },
  {
   "cell_type": "code",
   "execution_count": 23,
   "id": "3d728dfc",
   "metadata": {},
   "outputs": [
    {
     "data": {
      "text/plain": [
       "RandomForestClassifier(n_estimators=10)"
      ]
     },
     "execution_count": 23,
     "metadata": {},
     "output_type": "execute_result"
    }
   ],
   "source": [
    "from sklearn.ensemble import RandomForestClassifier\n",
    "classifier = RandomForestClassifier(n_estimators=10)\n",
    "classifier.fit(X_train, y_train)"
   ]
  },
  {
   "cell_type": "code",
   "execution_count": 12,
   "id": "0e34c9fe",
   "metadata": {},
   "outputs": [
    {
     "name": "stdout",
     "output_type": "stream",
     "text": [
      "[[127  22]\n",
      " [ 38  44]]\n",
      "0.7402597402597403\n",
      "              precision    recall  f1-score   support\n",
      "\n",
      "           0       0.77      0.85      0.81       149\n",
      "           1       0.67      0.54      0.59        82\n",
      "\n",
      "    accuracy                           0.74       231\n",
      "   macro avg       0.72      0.69      0.70       231\n",
      "weighted avg       0.73      0.74      0.73       231\n",
      "\n"
     ]
    }
   ],
   "source": [
    "from sklearn.metrics import accuracy_score, confusion_matrix, classification_report\n",
    "y_pred = classifier.predict(X_test)\n",
    "print(confusion_matrix(y_test, y_pred))\n",
    "print(accuracy_score(y_test, y_pred))\n",
    "print(classification_report(y_test, y_pred))"
   ]
  },
  {
   "cell_type": "code",
   "execution_count": 13,
   "id": "37835154",
   "metadata": {
    "scrolled": true
   },
   "outputs": [
    {
     "name": "stdout",
     "output_type": "stream",
     "text": [
      "[[130  19]\n",
      " [ 31  51]]\n",
      "0.7835497835497836\n",
      "              precision    recall  f1-score   support\n",
      "\n",
      "           0       0.81      0.87      0.84       149\n",
      "           1       0.73      0.62      0.67        82\n",
      "\n",
      "    accuracy                           0.78       231\n",
      "   macro avg       0.77      0.75      0.75       231\n",
      "weighted avg       0.78      0.78      0.78       231\n",
      "\n"
     ]
    }
   ],
   "source": [
    "### Manual Hyperparameter Tuning\n",
    "model=RandomForestClassifier(n_estimators=300,criterion='entropy',\n",
    "                             max_features='sqrt',min_samples_leaf=10,random_state=100).fit(X_train,y_train)\n",
    "predictions=model.predict(X_test)\n",
    "print(confusion_matrix(y_test,predictions))\n",
    "print(accuracy_score(y_test,predictions))\n",
    "print(classification_report(y_test,predictions))"
   ]
  },
  {
   "cell_type": "markdown",
   "id": "33551db7",
   "metadata": {},
   "source": [
    "# 1. Randomizd Search CV"
   ]
  },
  {
   "cell_type": "code",
   "execution_count": 14,
   "id": "1e038f62",
   "metadata": {},
   "outputs": [],
   "source": [
    "from sklearn.model_selection import RandomizedSearchCV"
   ]
  },
  {
   "cell_type": "code",
   "execution_count": 15,
   "id": "1b9e6220",
   "metadata": {},
   "outputs": [
    {
     "name": "stdout",
     "output_type": "stream",
     "text": [
      "{'n_estimators': [200, 400, 600, 800, 1000, 1200, 1400, 1600, 1800, 2000], 'max_features': ['auto', 'sqrt', 'log2'], 'max_depth': [10, 120, 230, 340, 450, 560, 670, 780, 890, 1000], 'min_samples_split': [2, 5, 10, 14], 'min_samples_leaf': [1, 2, 3, 4, 5], 'criterion': ['gini', 'entropy']}\n"
     ]
    }
   ],
   "source": [
    "##Number of Trees in Random Forest\n",
    "n_estimators = [int(x) for x in np.linspace(start = 200, stop = 2000, num = 10)]\n",
    "##Number of features to consider at every split\n",
    "max_features = ['auto', 'sqrt', 'log2']\n",
    "##Maximum number of levels in tree\n",
    "max_depth = [int(x) for x in np.linspace(10,1000,10)]\n",
    "##Minimum number of samples required to split a node\n",
    "min_samples_split = [2,5,10,14]\n",
    "##Minimum number of samples required at each leaf node\n",
    "min_samples_leaf = [1,2,3,4,5]\n",
    "##Create the random grid\n",
    "random_grid = {'n_estimators': n_estimators,\n",
    "              'max_features' : max_features,\n",
    "              'max_depth' : max_depth,\n",
    "              'min_samples_split' : min_samples_split,\n",
    "              'min_samples_leaf' : min_samples_leaf,\n",
    "              'criterion' : ['gini', 'entropy']}\n",
    "print(random_grid)"
   ]
  },
  {
   "cell_type": "code",
   "execution_count": 26,
   "id": "9074bd4a",
   "metadata": {},
   "outputs": [
    {
     "data": {
      "text/plain": [
       "RandomizedSearchCV(cv=2, estimator=RandomForestClassifier(), n_iter=2,\n",
       "                   n_jobs=-1,\n",
       "                   param_distributions={'criterion': ['gini', 'entropy'],\n",
       "                                        'max_depth': [10, 120, 230, 340, 450,\n",
       "                                                      560, 670, 780, 890,\n",
       "                                                      1000],\n",
       "                                        'max_features': ['auto', 'sqrt',\n",
       "                                                         'log2'],\n",
       "                                        'min_samples_leaf': [1, 2, 3, 4, 5],\n",
       "                                        'min_samples_split': [2, 5, 10, 14],\n",
       "                                        'n_estimators': [200, 400, 600, 800,\n",
       "                                                         1000, 1200, 1400, 1600,\n",
       "                                                         1800, 2000]})"
      ]
     },
     "execution_count": 26,
     "metadata": {},
     "output_type": "execute_result"
    }
   ],
   "source": [
    "rf = RandomForestClassifier()\n",
    "rf_randomcv = RandomizedSearchCV(estimator=rf,param_distributions=random_grid,n_jobs=-1, cv=2,n_iter=2)\n",
    "rf_randomcv.fit(X_train, y_train)"
   ]
  },
  {
   "cell_type": "code",
   "execution_count": 27,
   "id": "4514cae0",
   "metadata": {},
   "outputs": [
    {
     "data": {
      "text/plain": [
       "{'n_estimators': 1200,\n",
       " 'min_samples_split': 5,\n",
       " 'min_samples_leaf': 1,\n",
       " 'max_features': 'log2',\n",
       " 'max_depth': 890,\n",
       " 'criterion': 'gini'}"
      ]
     },
     "execution_count": 27,
     "metadata": {},
     "output_type": "execute_result"
    }
   ],
   "source": [
    "rf_randomcv.best_params_"
   ]
  },
  {
   "cell_type": "code",
   "execution_count": 28,
   "id": "b755ce60",
   "metadata": {},
   "outputs": [
    {
     "data": {
      "text/plain": [
       "RandomizedSearchCV(cv=2, estimator=RandomForestClassifier(), n_iter=2,\n",
       "                   n_jobs=-1,\n",
       "                   param_distributions={'criterion': ['gini', 'entropy'],\n",
       "                                        'max_depth': [10, 120, 230, 340, 450,\n",
       "                                                      560, 670, 780, 890,\n",
       "                                                      1000],\n",
       "                                        'max_features': ['auto', 'sqrt',\n",
       "                                                         'log2'],\n",
       "                                        'min_samples_leaf': [1, 2, 3, 4, 5],\n",
       "                                        'min_samples_split': [2, 5, 10, 14],\n",
       "                                        'n_estimators': [200, 400, 600, 800,\n",
       "                                                         1000, 1200, 1400, 1600,\n",
       "                                                         1800, 2000]})"
      ]
     },
     "execution_count": 28,
     "metadata": {},
     "output_type": "execute_result"
    }
   ],
   "source": [
    "rf_randomcv"
   ]
  },
  {
   "cell_type": "code",
   "execution_count": 29,
   "id": "e0ae4b22",
   "metadata": {},
   "outputs": [],
   "source": [
    "best_random_grid=rf_randomcv.best_estimator_"
   ]
  },
  {
   "cell_type": "code",
   "execution_count": 27,
   "id": "2efdf3dd",
   "metadata": {},
   "outputs": [],
   "source": [
    "from sklearn.metrics import accuracy_score, confusion_matrix, classification_report\n",
    "y_pred = best_random_grid.predict(X_test)\n",
    "print(confusion_matrix(y_test, y_pred))\n",
    "print(accuracy_score(y_test, y_pred))\n",
    "print(classification_report(y_test, y_pred))"
   ]
  },
  {
   "cell_type": "code",
   "execution_count": 31,
   "id": "98e53dc7",
   "metadata": {},
   "outputs": [
    {
     "data": {
      "text/plain": [
       "{'n_estimators': 1200,\n",
       " 'min_samples_split': 5,\n",
       " 'min_samples_leaf': 1,\n",
       " 'max_features': 'log2',\n",
       " 'max_depth': 890,\n",
       " 'criterion': 'gini'}"
      ]
     },
     "execution_count": 31,
     "metadata": {},
     "output_type": "execute_result"
    }
   ],
   "source": [
    "rf_randomcv.best_params_"
   ]
  },
  {
   "cell_type": "markdown",
   "id": "5c39e176",
   "metadata": {},
   "source": [
    "# 2. Grid Search CV"
   ]
  },
  {
   "cell_type": "code",
   "execution_count": 32,
   "id": "fb41b7ae",
   "metadata": {},
   "outputs": [],
   "source": [
    "from sklearn.model_selection import GridSearchCV"
   ]
  },
  {
   "cell_type": "code",
   "execution_count": 33,
   "id": "c39eacf0",
   "metadata": {},
   "outputs": [
    {
     "name": "stdout",
     "output_type": "stream",
     "text": [
      "{'criterion': ['gini'], 'max_depth': [890], 'max_features': ['log2'], 'min_samples_leaf': [1, 3, 5], 'min_samples_split': [3, 4, 5, 6, 7], 'n_estimators': [1000, 1100, 1200, 1300, 1400]}\n"
     ]
    }
   ],
   "source": [
    "param_grid = {\n",
    "    'criterion': [rf_randomcv.best_params_['criterion']],\n",
    "    'max_depth': [rf_randomcv.best_params_['max_depth']],\n",
    "    'max_features': [rf_randomcv.best_params_['max_features']],\n",
    "    'min_samples_leaf': [rf_randomcv.best_params_['min_samples_leaf'], \n",
    "                         rf_randomcv.best_params_['min_samples_leaf']+2, \n",
    "                         rf_randomcv.best_params_['min_samples_leaf'] + 4],\n",
    "    'min_samples_split': [rf_randomcv.best_params_['min_samples_split'] - 2,\n",
    "                          rf_randomcv.best_params_['min_samples_split'] - 1,\n",
    "                          rf_randomcv.best_params_['min_samples_split'], \n",
    "                          rf_randomcv.best_params_['min_samples_split'] +1,\n",
    "                          rf_randomcv.best_params_['min_samples_split'] + 2],\n",
    "    'n_estimators': [rf_randomcv.best_params_['n_estimators'] - 200, rf_randomcv.best_params_['n_estimators'] - 100, \n",
    "                     rf_randomcv.best_params_['n_estimators'], \n",
    "                     rf_randomcv.best_params_['n_estimators'] + 100, rf_randomcv.best_params_['n_estimators'] + 200]\n",
    "}\n",
    "\n",
    "print(param_grid)"
   ]
  },
  {
   "cell_type": "code",
   "execution_count": 47,
   "id": "6e5a4433",
   "metadata": {},
   "outputs": [],
   "source": [
    "rf = RandomForestClassifier()\n",
    "rf_gridsearch_cv = GridSearchCV(estimator = rf, param_grid = param_grid, n_jobs = -1, cv=2,verbose =2)"
   ]
  },
  {
   "cell_type": "code",
   "execution_count": 48,
   "id": "d8a9c2b3",
   "metadata": {},
   "outputs": [
    {
     "name": "stdout",
     "output_type": "stream",
     "text": [
      "Fitting 2 folds for each of 75 candidates, totalling 150 fits\n"
     ]
    },
    {
     "data": {
      "text/plain": [
       "GridSearchCV(cv=2, estimator=RandomForestClassifier(), n_jobs=-1,\n",
       "             param_grid={'criterion': ['gini'], 'max_depth': [890],\n",
       "                         'max_features': ['log2'],\n",
       "                         'min_samples_leaf': [1, 3, 5],\n",
       "                         'min_samples_split': [3, 4, 5, 6, 7],\n",
       "                         'n_estimators': [1000, 1100, 1200, 1300, 1400]},\n",
       "             verbose=2)"
      ]
     },
     "execution_count": 48,
     "metadata": {},
     "output_type": "execute_result"
    }
   ],
   "source": [
    "rf_gridsearch_cv.fit(X_train, y_train)"
   ]
  },
  {
   "cell_type": "code",
   "execution_count": 49,
   "id": "bcf423c2",
   "metadata": {},
   "outputs": [
    {
     "data": {
      "text/plain": [
       "RandomForestClassifier(max_depth=890, max_features='log2', min_samples_leaf=5,\n",
       "                       min_samples_split=5, n_estimators=1100)"
      ]
     },
     "execution_count": 49,
     "metadata": {},
     "output_type": "execute_result"
    }
   ],
   "source": [
    "rf_gridsearch_cv.best_estimator_"
   ]
  },
  {
   "cell_type": "code",
   "execution_count": 50,
   "id": "2933573b",
   "metadata": {},
   "outputs": [],
   "source": [
    "best_params = rf_gridsearch_cv.best_estimator_"
   ]
  },
  {
   "cell_type": "code",
   "execution_count": 51,
   "id": "5f5f6612",
   "metadata": {},
   "outputs": [],
   "source": [
    "y_pred = best_params.predict(X_test)"
   ]
  },
  {
   "cell_type": "code",
   "execution_count": 52,
   "id": "76bc0954",
   "metadata": {},
   "outputs": [
    {
     "name": "stdout",
     "output_type": "stream",
     "text": [
      "[[126  23]\n",
      " [ 26  56]]\n",
      "0.7878787878787878\n",
      "              precision    recall  f1-score   support\n",
      "\n",
      "           0       0.83      0.85      0.84       149\n",
      "           1       0.71      0.68      0.70        82\n",
      "\n",
      "    accuracy                           0.79       231\n",
      "   macro avg       0.77      0.76      0.77       231\n",
      "weighted avg       0.79      0.79      0.79       231\n",
      "\n"
     ]
    }
   ],
   "source": [
    "print(confusion_matrix(y_test, y_pred))\n",
    "print(accuracy_score(y_test, y_pred))\n",
    "print(classification_report(y_test, y_pred))"
   ]
  },
  {
   "cell_type": "markdown",
   "id": "195c2ec8",
   "metadata": {},
   "source": [
    "# 3. Bayesian Optimization"
   ]
  },
  {
   "cell_type": "code",
   "execution_count": 53,
   "id": "67c76721",
   "metadata": {},
   "outputs": [],
   "source": [
    "from hyperopt import hp,fmin,tpe,STATUS_OK,Trials"
   ]
  },
  {
   "cell_type": "code",
   "execution_count": null,
   "id": "a102eed6",
   "metadata": {},
   "outputs": [],
   "source": [
    "##hp.choice : selecting between multiple numbers/strings eg: gini, entropy, None or [10,20.30,400]\n",
    "##hp.quinform : selecting integer numbers\n",
    "##hp.uniform  : selecting floating numbers"
   ]
  },
  {
   "cell_type": "code",
   "execution_count": 54,
   "id": "b82fbde7",
   "metadata": {},
   "outputs": [],
   "source": [
    "##Let's create the space grid"
   ]
  },
  {
   "cell_type": "code",
   "execution_count": 56,
   "id": "1c8742a7",
   "metadata": {},
   "outputs": [],
   "source": [
    "space = {'criterion' : hp.choice('criterion', ['entropy', 'gini']),\n",
    "        'max_depth' : hp.quniform('max_depth', 10,1200,10),\n",
    "        'max_features' : hp.choice('max_features', ['auto','sqrt', 'log2',None]),\n",
    "        'min_samples_leaf' : hp.uniform('min_samples_leaf',0,0.5),\n",
    "        'min_samples_split' : hp.uniform('min_samples_split', 0,1),\n",
    "        'n_estimators' : hp.choice('n_estimators',[10,50,100,750,900,1000])\n",
    "        }"
   ]
  },
  {
   "cell_type": "code",
   "execution_count": 57,
   "id": "508841c6",
   "metadata": {},
   "outputs": [
    {
     "data": {
      "text/plain": [
       "{'criterion': <hyperopt.pyll.base.Apply at 0x2b1e28fa430>,\n",
       " 'max_depth': <hyperopt.pyll.base.Apply at 0x2b1e28fa610>,\n",
       " 'max_features': <hyperopt.pyll.base.Apply at 0x2b1e28fa850>,\n",
       " 'min_samples_leaf': <hyperopt.pyll.base.Apply at 0x2b1e28fa9a0>,\n",
       " 'min_samples_split': <hyperopt.pyll.base.Apply at 0x2b1e28faa90>,\n",
       " 'n_estimators': <hyperopt.pyll.base.Apply at 0x2b1e28fab50>}"
      ]
     },
     "execution_count": 57,
     "metadata": {},
     "output_type": "execute_result"
    }
   ],
   "source": [
    "space"
   ]
  },
  {
   "cell_type": "code",
   "execution_count": 58,
   "id": "229e4cb2",
   "metadata": {},
   "outputs": [],
   "source": [
    "##defining objective function"
   ]
  },
  {
   "cell_type": "code",
   "execution_count": 59,
   "id": "8ac960e5",
   "metadata": {},
   "outputs": [],
   "source": [
    "def objective(space):\n",
    "    rf = RandomForestClassifier(criterion = space['criterion'], max_depth = space['max_depth'],max_features = space['max_features'],\n",
    "                               min_samples_leaf = space['min_samples_leaf'], min_samples_split = space['min_samples_split'],\n",
    "                                n_estimators = space['n_estimators'])\n",
    "    \n",
    "    accuracy = cross_val_score(rf, X_train, y_train, cv =5).mean()\n",
    "    return{'loss' : -accuracy, 'status': STATUS_OK}"
   ]
  },
  {
   "cell_type": "code",
   "execution_count": 60,
   "id": "6f913320",
   "metadata": {},
   "outputs": [],
   "source": [
    "from sklearn.model_selection import cross_val_score"
   ]
  },
  {
   "cell_type": "code",
   "execution_count": 63,
   "id": "cf829059",
   "metadata": {},
   "outputs": [
    {
     "name": "stdout",
     "output_type": "stream",
     "text": [
      "100%|██████████| 80/80 [07:26<00:00,  5.58s/trial, best loss: -0.765368639667705] \n"
     ]
    },
    {
     "data": {
      "text/plain": [
       "{'criterion': 0,\n",
       " 'max_depth': 930.0,\n",
       " 'max_features': 2,\n",
       " 'min_samples_leaf': 0.03097670882881497,\n",
       " 'min_samples_split': 0.11557672972149434,\n",
       " 'n_estimators': 2}"
      ]
     },
     "execution_count": 63,
     "metadata": {},
     "output_type": "execute_result"
    }
   ],
   "source": [
    "trials = Trials()\n",
    "best = fmin(fn = objective, space = space, algo = tpe.suggest,\n",
    "           max_evals = 80, trials = trials)\n",
    "best"
   ]
  },
  {
   "cell_type": "code",
   "execution_count": 64,
   "id": "85f78549",
   "metadata": {},
   "outputs": [],
   "source": [
    "crit = {0:'entropy', 1:'gini'}\n",
    "max_feat = {0:'auto', 1:'sqrt',2:'log2'}\n",
    "n_estima = {0:10, 1:50,2:100,3:750,4:900,5:1000}"
   ]
  },
  {
   "cell_type": "code",
   "execution_count": 69,
   "id": "9a4930df",
   "metadata": {},
   "outputs": [
    {
     "name": "stdout",
     "output_type": "stream",
     "text": [
      "entropy\n",
      "log2\n",
      "100\n"
     ]
    }
   ],
   "source": [
    "print(crit[best['criterion']])\n",
    "print(max_feat[best['max_features']])\n",
    "print(n_estima[best['n_estimators']])"
   ]
  },
  {
   "cell_type": "code",
   "execution_count": 70,
   "id": "3aa2383e",
   "metadata": {},
   "outputs": [],
   "source": [
    "trained_forest = RandomForestClassifier(criterion = crit[best['criterion']],max_depth = best['max_depth'],max_features =  max_feat[best['max_features']],\n",
    "                                       min_samples_leaf=best['min_samples_leaf'],min_samples_split=best['min_samples_split'],n_estimators= n_estima[best['n_estimators']])"
   ]
  },
  {
   "cell_type": "code",
   "execution_count": 72,
   "id": "51ccd12a",
   "metadata": {},
   "outputs": [
    {
     "data": {
      "text/plain": [
       "RandomForestClassifier(criterion='entropy', max_depth=930.0,\n",
       "                       max_features='log2',\n",
       "                       min_samples_leaf=0.03097670882881497,\n",
       "                       min_samples_split=0.11557672972149434)"
      ]
     },
     "execution_count": 72,
     "metadata": {},
     "output_type": "execute_result"
    }
   ],
   "source": [
    "trained_forest.fit(X_train, y_train)"
   ]
  },
  {
   "cell_type": "code",
   "execution_count": 73,
   "id": "1d4ae259",
   "metadata": {},
   "outputs": [],
   "source": [
    "y_pred = trained_forest.predict(X_test)"
   ]
  },
  {
   "cell_type": "code",
   "execution_count": 74,
   "id": "d6919415",
   "metadata": {},
   "outputs": [
    {
     "name": "stdout",
     "output_type": "stream",
     "text": [
      "[[129  20]\n",
      " [ 35  47]]\n",
      "0.7619047619047619\n",
      "              precision    recall  f1-score   support\n",
      "\n",
      "           0       0.79      0.87      0.82       149\n",
      "           1       0.70      0.57      0.63        82\n",
      "\n",
      "    accuracy                           0.76       231\n",
      "   macro avg       0.74      0.72      0.73       231\n",
      "weighted avg       0.76      0.76      0.76       231\n",
      "\n"
     ]
    }
   ],
   "source": [
    "print(confusion_matrix(y_test, y_pred))\n",
    "print(accuracy_score(y_test, y_pred))\n",
    "print(classification_report(y_test, y_pred))"
   ]
  },
  {
   "cell_type": "markdown",
   "id": "549297e1",
   "metadata": {},
   "source": [
    "# 4. Genetic Algorithm"
   ]
  },
  {
   "cell_type": "code",
   "execution_count": 3,
   "id": "f5257b90",
   "metadata": {},
   "outputs": [
    {
     "name": "stdout",
     "output_type": "stream",
     "text": [
      "{'n_estimators': [200, 400, 600, 800, 1000, 1200, 1400, 1600, 1800, 2000], 'max_features': ['auto', 'sqrt', 'log2'], 'max_depth': [10, 120, 230, 340, 450, 560, 670, 780, 890, 1000], 'min_samples_split': [2, 5, 10, 14], 'min_samples_leaf': [1, 2, 4, 6, 8], 'criterion': ['entropy', 'gini']}\n"
     ]
    }
   ],
   "source": [
    "from sklearn.model_selection import RandomizedSearchCV\n",
    "# Number of trees in random forest\n",
    "n_estimators = [int(x) for x in np.linspace(start = 200, stop = 2000, num = 10)]\n",
    "# Number of features to consider at every split\n",
    "max_features = ['auto', 'sqrt','log2']\n",
    "# Maximum number of levels in tree\n",
    "max_depth = [int(x) for x in np.linspace(10, 1000,10)]\n",
    "# Minimum number of samples required to split a node\n",
    "min_samples_split = [2, 5, 10,14]\n",
    "# Minimum number of samples required at each leaf node\n",
    "min_samples_leaf = [1, 2, 4,6,8]\n",
    "# Create the random grid\n",
    "param = {'n_estimators': n_estimators,\n",
    "               'max_features': max_features,\n",
    "               'max_depth': max_depth,\n",
    "               'min_samples_split': min_samples_split,\n",
    "               'min_samples_leaf': min_samples_leaf,\n",
    "              'criterion':['entropy','gini']}\n",
    "print(param)"
   ]
  },
  {
   "cell_type": "code",
   "execution_count": 4,
   "id": "6ee01d07",
   "metadata": {},
   "outputs": [
    {
     "name": "stderr",
     "output_type": "stream",
     "text": [
      "C:\\Users\\hp\\anaconda3\\lib\\site-packages\\tpot\\builtins\\__init__.py:36: UserWarning: Warning: optional dependency `torch` is not available. - skipping import of NN models.\n",
      "  warnings.warn(\"Warning: optional dependency `torch` is not available. - skipping import of NN models.\")\n"
     ]
    }
   ],
   "source": [
    "from tpot import TPOTClassifier"
   ]
  },
  {
   "cell_type": "code",
   "execution_count": 15,
   "id": "cf20d7c4",
   "metadata": {},
   "outputs": [
    {
     "data": {
      "application/vnd.jupyter.widget-view+json": {
       "model_id": "",
       "version_major": 2,
       "version_minor": 0
      },
      "text/plain": [
       "Optimization Progress:   0%|          | 0/21 [00:00<?, ?pipeline/s]"
      ]
     },
     "metadata": {},
     "output_type": "display_data"
    },
    {
     "name": "stdout",
     "output_type": "stream",
     "text": [
      "\n",
      "Generation 1 - Current best internal CV score: 0.7820619126589277\n",
      "\n",
      "Generation 2 - Current best internal CV score: 0.7820619126589277\n",
      "\n",
      "Generation 3 - Current best internal CV score: 0.7820619126589277\n",
      "\n",
      "Generation 4 - Current best internal CV score: 0.7857656163626312\n",
      "\n",
      "Generation 5 - Current best internal CV score: 0.7857656163626312\n",
      "\n",
      "Best pipeline: RandomForestClassifier(CombineDFs(input_matrix, CombineDFs(input_matrix, input_matrix)), criterion=entropy, max_depth=890, max_features=auto, min_samples_leaf=6, min_samples_split=14, n_estimators=1200)\n"
     ]
    },
    {
     "data": {
      "text/plain": [
       "TPOTClassifier(config_dict={'sklearn.ensemble.RandomForestClassifier': {'criterion': ['entropy',\n",
       "                                                                                      'gini'],\n",
       "                                                                        'max_depth': [10,\n",
       "                                                                                      120,\n",
       "                                                                                      230,\n",
       "                                                                                      340,\n",
       "                                                                                      450,\n",
       "                                                                                      560,\n",
       "                                                                                      670,\n",
       "                                                                                      780,\n",
       "                                                                                      890,\n",
       "                                                                                      1000],\n",
       "                                                                        'max_features': ['auto',\n",
       "                                                                                         'sqrt',\n",
       "                                                                                         'log2'],\n",
       "                                                                        'min_samples_leaf': [1,\n",
       "                                                                                             2,\n",
       "                                                                                             4,\n",
       "                                                                                             6,\n",
       "                                                                                             8],\n",
       "                                                                        'min_samples_split': [2,\n",
       "                                                                                              5,\n",
       "                                                                                              10,\n",
       "                                                                                              14],\n",
       "                                                                        'n_estimators': [200,\n",
       "                                                                                         400,\n",
       "                                                                                         600,\n",
       "                                                                                         800,\n",
       "                                                                                         1000,\n",
       "                                                                                         1200,\n",
       "                                                                                         1400,\n",
       "                                                                                         1600,\n",
       "                                                                                         1800,\n",
       "                                                                                         2000]}},\n",
       "               cv=4, early_stop=12, generations=5, offspring_size=3,\n",
       "               population_size=6, scoring='accuracy', verbosity=2)"
      ]
     },
     "execution_count": 15,
     "metadata": {},
     "output_type": "execute_result"
    }
   ],
   "source": [
    "tpot_classifier = TPOTClassifier(generations= 5, population_size= 6, offspring_size= 3,\n",
    "                                 verbosity= 2, early_stop= 12,\n",
    "                                 config_dict={'sklearn.ensemble.RandomForestClassifier': param}, \n",
    "                                 cv = 4, scoring = 'accuracy')\n",
    "tpot_classifier.fit(X_train,y_train)"
   ]
  },
  {
   "cell_type": "code",
   "execution_count": 84,
   "id": "0202ea28",
   "metadata": {},
   "outputs": [],
   "source": [
    "import tensorflow as tf"
   ]
  },
  {
   "cell_type": "code",
   "execution_count": 85,
   "id": "ef1f2bd0",
   "metadata": {},
   "outputs": [
    {
     "name": "stdout",
     "output_type": "stream",
     "text": [
      "2.3.0\n"
     ]
    }
   ],
   "source": [
    "print(tf.__version__)"
   ]
  },
  {
   "cell_type": "code",
   "execution_count": 16,
   "id": "7049e1f5",
   "metadata": {},
   "outputs": [
    {
     "name": "stdout",
     "output_type": "stream",
     "text": [
      "0.7272727272727273\n"
     ]
    }
   ],
   "source": [
    "accuracy = tpot_classifier.score(X_test, y_test)\n",
    "print(accuracy)"
   ]
  },
  {
   "cell_type": "markdown",
   "id": "6c778889",
   "metadata": {},
   "source": [
    "# 5. Optuna"
   ]
  },
  {
   "cell_type": "code",
   "execution_count": 17,
   "id": "01a09f10",
   "metadata": {},
   "outputs": [],
   "source": [
    "import optuna"
   ]
  },
  {
   "cell_type": "code",
   "execution_count": 18,
   "id": "6ce2c251",
   "metadata": {},
   "outputs": [],
   "source": [
    "import optuna\n",
    "import sklearn.svm\n",
    "def objective(trial):\n",
    "\n",
    "    classifier = trial.suggest_categorical('classifier', ['RandomForest', 'SVC'])\n",
    "    \n",
    "    if classifier == 'RandomForest':\n",
    "        n_estimators = trial.suggest_int('n_estimators', 200, 2000,10)\n",
    "        max_depth = int(trial.suggest_float('max_depth', 10, 100, log=True))\n",
    "\n",
    "        clf = sklearn.ensemble.RandomForestClassifier(\n",
    "            n_estimators=n_estimators, max_depth=max_depth)\n",
    "    else:\n",
    "        c = trial.suggest_float('svc_c', 1e-10, 1e10, log=True)\n",
    "        \n",
    "        clf = sklearn.svm.SVC(C=c, gamma='auto')\n",
    "\n",
    "    return sklearn.model_selection.cross_val_score(\n",
    "        clf,X_train,y_train, n_jobs=-1, cv=3).mean()"
   ]
  },
  {
   "cell_type": "code",
   "execution_count": 19,
   "id": "4c6afd56",
   "metadata": {},
   "outputs": [
    {
     "name": "stderr",
     "output_type": "stream",
     "text": [
      "\u001b[32m[I 2021-08-03 22:01:26,067]\u001b[0m A new study created in memory with name: no-name-367f8535-c911-4231-a46d-8356157ee785\u001b[0m\n",
      "\u001b[32m[I 2021-08-03 22:01:39,689]\u001b[0m Trial 0 finished with value: 0.7690875232774674 and parameters: {'classifier': 'RandomForest', 'n_estimators': 780, 'max_depth': 59.70443473016753}. Best is trial 0 with value: 0.7690875232774674.\u001b[0m\n",
      "\u001b[32m[I 2021-08-03 22:01:50,807]\u001b[0m Trial 1 finished with value: 0.7728119180633147 and parameters: {'classifier': 'RandomForest', 'n_estimators': 1200, 'max_depth': 73.66854765653908}. Best is trial 1 with value: 0.7728119180633147.\u001b[0m\n",
      "\u001b[32m[I 2021-08-03 22:02:02,408]\u001b[0m Trial 2 finished with value: 0.7746741154562383 and parameters: {'classifier': 'RandomForest', 'n_estimators': 1760, 'max_depth': 21.046830980540737}. Best is trial 2 with value: 0.7746741154562383.\u001b[0m\n",
      "\u001b[32m[I 2021-08-03 22:02:02,597]\u001b[0m Trial 3 finished with value: 0.6536312849162011 and parameters: {'classifier': 'SVC', 'svc_c': 0.7940367367837038}. Best is trial 2 with value: 0.7746741154562383.\u001b[0m\n",
      "\u001b[32m[I 2021-08-03 22:02:02,676]\u001b[0m Trial 4 finished with value: 0.6536312849162011 and parameters: {'classifier': 'SVC', 'svc_c': 4.061554844718602e-10}. Best is trial 2 with value: 0.7746741154562383.\u001b[0m\n",
      "\u001b[32m[I 2021-08-03 22:02:10,222]\u001b[0m Trial 5 finished with value: 0.7802607076350094 and parameters: {'classifier': 'RandomForest', 'n_estimators': 1060, 'max_depth': 39.332376329278624}. Best is trial 5 with value: 0.7802607076350094.\u001b[0m\n",
      "\u001b[32m[I 2021-08-03 22:02:12,901]\u001b[0m Trial 6 finished with value: 0.7765363128491619 and parameters: {'classifier': 'RandomForest', 'n_estimators': 400, 'max_depth': 76.70498163124579}. Best is trial 5 with value: 0.7802607076350094.\u001b[0m\n",
      "\u001b[32m[I 2021-08-03 22:02:16,186]\u001b[0m Trial 7 finished with value: 0.7690875232774674 and parameters: {'classifier': 'RandomForest', 'n_estimators': 460, 'max_depth': 10.08528671202688}. Best is trial 5 with value: 0.7802607076350094.\u001b[0m\n",
      "\u001b[32m[I 2021-08-03 22:02:16,287]\u001b[0m Trial 8 finished with value: 0.6536312849162011 and parameters: {'classifier': 'SVC', 'svc_c': 2.054162295654939}. Best is trial 5 with value: 0.7802607076350094.\u001b[0m\n",
      "\u001b[32m[I 2021-08-03 22:02:16,390]\u001b[0m Trial 9 finished with value: 0.6536312849162011 and parameters: {'classifier': 'SVC', 'svc_c': 201287.79162791223}. Best is trial 5 with value: 0.7802607076350094.\u001b[0m\n",
      "\u001b[32m[I 2021-08-03 22:02:25,658]\u001b[0m Trial 10 finished with value: 0.7709497206703911 and parameters: {'classifier': 'RandomForest', 'n_estimators': 1320, 'max_depth': 30.97237499043183}. Best is trial 5 with value: 0.7802607076350094.\u001b[0m\n",
      "\u001b[32m[I 2021-08-03 22:02:27,058]\u001b[0m Trial 11 finished with value: 0.7690875232774674 and parameters: {'classifier': 'RandomForest', 'n_estimators': 220, 'max_depth': 96.00384378383404}. Best is trial 5 with value: 0.7802607076350094.\u001b[0m\n",
      "\u001b[32m[I 2021-08-03 22:02:31,648]\u001b[0m Trial 12 finished with value: 0.7709497206703911 and parameters: {'classifier': 'RandomForest', 'n_estimators': 730, 'max_depth': 46.947457730526956}. Best is trial 5 with value: 0.7802607076350094.\u001b[0m\n",
      "\u001b[32m[I 2021-08-03 22:02:43,049]\u001b[0m Trial 13 finished with value: 0.7690875232774674 and parameters: {'classifier': 'RandomForest', 'n_estimators': 1600, 'max_depth': 39.795501684612695}. Best is trial 5 with value: 0.7802607076350094.\u001b[0m\n",
      "\u001b[32m[I 2021-08-03 22:02:48,616]\u001b[0m Trial 14 finished with value: 0.7709497206703911 and parameters: {'classifier': 'RandomForest', 'n_estimators': 850, 'max_depth': 24.36259883230178}. Best is trial 5 with value: 0.7802607076350094.\u001b[0m\n",
      "\u001b[32m[I 2021-08-03 22:02:50,054]\u001b[0m Trial 15 finished with value: 0.7690875232774674 and parameters: {'classifier': 'RandomForest', 'n_estimators': 220, 'max_depth': 99.04838096120443}. Best is trial 5 with value: 0.7802607076350094.\u001b[0m\n",
      "\u001b[32m[I 2021-08-03 22:02:57,621]\u001b[0m Trial 16 finished with value: 0.7783985102420856 and parameters: {'classifier': 'RandomForest', 'n_estimators': 1030, 'max_depth': 57.24045091484058}. Best is trial 5 with value: 0.7802607076350094.\u001b[0m\n",
      "\u001b[32m[I 2021-08-03 22:03:04,080]\u001b[0m Trial 17 finished with value: 0.7783985102420857 and parameters: {'classifier': 'RandomForest', 'n_estimators': 1020, 'max_depth': 42.32251244791917}. Best is trial 5 with value: 0.7802607076350094.\u001b[0m\n",
      "\u001b[32m[I 2021-08-03 22:03:04,190]\u001b[0m Trial 18 finished with value: 0.6536312849162011 and parameters: {'classifier': 'SVC', 'svc_c': 2043043862.4956944}. Best is trial 5 with value: 0.7802607076350094.\u001b[0m\n",
      "\u001b[32m[I 2021-08-03 22:03:14,807]\u001b[0m Trial 19 finished with value: 0.7672253258845437 and parameters: {'classifier': 'RandomForest', 'n_estimators': 1420, 'max_depth': 15.477999660128104}. Best is trial 5 with value: 0.7802607076350094.\u001b[0m\n",
      "\u001b[32m[I 2021-08-03 22:03:22,027]\u001b[0m Trial 20 finished with value: 0.7709497206703911 and parameters: {'classifier': 'RandomForest', 'n_estimators': 1020, 'max_depth': 34.58850292676178}. Best is trial 5 with value: 0.7802607076350094.\u001b[0m\n",
      "\u001b[32m[I 2021-08-03 22:03:29,705]\u001b[0m Trial 21 finished with value: 0.7746741154562384 and parameters: {'classifier': 'RandomForest', 'n_estimators': 1020, 'max_depth': 52.44831134616008}. Best is trial 5 with value: 0.7802607076350094.\u001b[0m\n",
      "\u001b[32m[I 2021-08-03 22:03:44,446]\u001b[0m Trial 22 finished with value: 0.7802607076350093 and parameters: {'classifier': 'RandomForest', 'n_estimators': 2000, 'max_depth': 42.34451595828494}. Best is trial 5 with value: 0.7802607076350094.\u001b[0m\n",
      "\u001b[32m[I 2021-08-03 22:03:55,287]\u001b[0m Trial 23 finished with value: 0.7746741154562383 and parameters: {'classifier': 'RandomForest', 'n_estimators': 1510, 'max_depth': 28.07012104779864}. Best is trial 5 with value: 0.7802607076350094.\u001b[0m\n",
      "\u001b[32m[I 2021-08-03 22:04:07,549]\u001b[0m Trial 24 finished with value: 0.7821229050279329 and parameters: {'classifier': 'RandomForest', 'n_estimators': 1890, 'max_depth': 40.22460952117451}. Best is trial 24 with value: 0.7821229050279329.\u001b[0m\n",
      "\u001b[32m[I 2021-08-03 22:04:20,266]\u001b[0m Trial 25 finished with value: 0.7765363128491619 and parameters: {'classifier': 'RandomForest', 'n_estimators': 1960, 'max_depth': 37.18796676029366}. Best is trial 24 with value: 0.7821229050279329.\u001b[0m\n",
      "\u001b[32m[I 2021-08-03 22:04:33,936]\u001b[0m Trial 26 finished with value: 0.7746741154562384 and parameters: {'classifier': 'RandomForest', 'n_estimators': 1900, 'max_depth': 24.461644144028014}. Best is trial 24 with value: 0.7821229050279329.\u001b[0m\n",
      "\u001b[32m[I 2021-08-03 22:04:34,015]\u001b[0m Trial 27 finished with value: 0.6536312849162011 and parameters: {'classifier': 'SVC', 'svc_c': 9.503010742803047e-10}. Best is trial 24 with value: 0.7821229050279329.\u001b[0m\n",
      "\u001b[32m[I 2021-08-03 22:04:46,528]\u001b[0m Trial 28 finished with value: 0.7746741154562384 and parameters: {'classifier': 'RandomForest', 'n_estimators': 1760, 'max_depth': 45.2537328332257}. Best is trial 24 with value: 0.7821229050279329.\u001b[0m\n",
      "\u001b[32m[I 2021-08-03 22:04:57,926]\u001b[0m Trial 29 finished with value: 0.7802607076350093 and parameters: {'classifier': 'RandomForest', 'n_estimators': 1710, 'max_depth': 30.172288141842877}. Best is trial 24 with value: 0.7821229050279329.\u001b[0m\n",
      "\u001b[32m[I 2021-08-03 22:05:10,074]\u001b[0m Trial 30 finished with value: 0.7709497206703911 and parameters: {'classifier': 'RandomForest', 'n_estimators': 1730, 'max_depth': 19.916855000980892}. Best is trial 24 with value: 0.7821229050279329.\u001b[0m\n",
      "\u001b[32m[I 2021-08-03 22:05:23,534]\u001b[0m Trial 31 finished with value: 0.7672253258845437 and parameters: {'classifier': 'RandomForest', 'n_estimators': 1990, 'max_depth': 34.85544974419572}. Best is trial 24 with value: 0.7821229050279329.\u001b[0m\n",
      "\u001b[32m[I 2021-08-03 22:05:34,581]\u001b[0m Trial 32 finished with value: 0.7765363128491621 and parameters: {'classifier': 'RandomForest', 'n_estimators': 1850, 'max_depth': 31.95307644420174}. Best is trial 24 with value: 0.7821229050279329.\u001b[0m\n",
      "\u001b[32m[I 2021-08-03 22:05:42,325]\u001b[0m Trial 33 finished with value: 0.7672253258845437 and parameters: {'classifier': 'RandomForest', 'n_estimators': 1580, 'max_depth': 27.342919172823706}. Best is trial 24 with value: 0.7821229050279329.\u001b[0m\n",
      "\u001b[32m[I 2021-08-03 22:05:48,641]\u001b[0m Trial 34 finished with value: 0.7653631284916201 and parameters: {'classifier': 'RandomForest', 'n_estimators': 1280, 'max_depth': 50.37755646704003}. Best is trial 24 with value: 0.7821229050279329.\u001b[0m\n"
     ]
    },
    {
     "name": "stderr",
     "output_type": "stream",
     "text": [
      "\u001b[32m[I 2021-08-03 22:05:57,679]\u001b[0m Trial 35 finished with value: 0.7728119180633146 and parameters: {'classifier': 'RandomForest', 'n_estimators': 1830, 'max_depth': 64.23420814129545}. Best is trial 24 with value: 0.7821229050279329.\u001b[0m\n",
      "\u001b[32m[I 2021-08-03 22:05:57,772]\u001b[0m Trial 36 finished with value: 0.6536312849162011 and parameters: {'classifier': 'SVC', 'svc_c': 0.0013742259828096542}. Best is trial 24 with value: 0.7821229050279329.\u001b[0m\n",
      "\u001b[32m[I 2021-08-03 22:06:06,218]\u001b[0m Trial 37 finished with value: 0.7802607076350093 and parameters: {'classifier': 'RandomForest', 'n_estimators': 1650, 'max_depth': 39.97571859029606}. Best is trial 24 with value: 0.7821229050279329.\u001b[0m\n",
      "\u001b[32m[I 2021-08-03 22:06:14,261]\u001b[0m Trial 38 finished with value: 0.7783985102420856 and parameters: {'classifier': 'RandomForest', 'n_estimators': 1630, 'max_depth': 41.17972241673026}. Best is trial 24 with value: 0.7821229050279329.\u001b[0m\n",
      "\u001b[32m[I 2021-08-03 22:06:14,334]\u001b[0m Trial 39 finished with value: 0.6536312849162011 and parameters: {'classifier': 'SVC', 'svc_c': 5.233427693604435e-05}. Best is trial 24 with value: 0.7821229050279329.\u001b[0m\n",
      "\u001b[32m[I 2021-08-03 22:06:21,319]\u001b[0m Trial 40 finished with value: 0.7746741154562383 and parameters: {'classifier': 'RandomForest', 'n_estimators': 1410, 'max_depth': 64.94443338982337}. Best is trial 24 with value: 0.7821229050279329.\u001b[0m\n",
      "\u001b[32m[I 2021-08-03 22:06:32,470]\u001b[0m Trial 41 finished with value: 0.7690875232774674 and parameters: {'classifier': 'RandomForest', 'n_estimators': 2000, 'max_depth': 37.72332785977242}. Best is trial 24 with value: 0.7821229050279329.\u001b[0m\n",
      "\u001b[32m[I 2021-08-03 22:06:42,888]\u001b[0m Trial 42 finished with value: 0.7728119180633146 and parameters: {'classifier': 'RandomForest', 'n_estimators': 1710, 'max_depth': 29.7358113196046}. Best is trial 24 with value: 0.7821229050279329.\u001b[0m\n",
      "\u001b[32m[I 2021-08-03 22:06:48,688]\u001b[0m Trial 43 finished with value: 0.7802607076350093 and parameters: {'classifier': 'RandomForest', 'n_estimators': 1140, 'max_depth': 52.80806034548349}. Best is trial 24 with value: 0.7821229050279329.\u001b[0m\n",
      "\u001b[32m[I 2021-08-03 22:06:56,406]\u001b[0m Trial 44 finished with value: 0.7746741154562383 and parameters: {'classifier': 'RandomForest', 'n_estimators': 1180, 'max_depth': 55.307953393250116}. Best is trial 24 with value: 0.7821229050279329.\u001b[0m\n",
      "\u001b[32m[I 2021-08-03 22:07:00,684]\u001b[0m Trial 45 finished with value: 0.7802607076350093 and parameters: {'classifier': 'RandomForest', 'n_estimators': 790, 'max_depth': 46.179012155425255}. Best is trial 24 with value: 0.7821229050279329.\u001b[0m\n",
      "\u001b[32m[I 2021-08-03 22:07:03,531]\u001b[0m Trial 46 finished with value: 0.7746741154562383 and parameters: {'classifier': 'RandomForest', 'n_estimators': 560, 'max_depth': 74.56915719733286}. Best is trial 24 with value: 0.7821229050279329.\u001b[0m\n",
      "\u001b[32m[I 2021-08-03 22:07:03,626]\u001b[0m Trial 47 finished with value: 0.6536312849162011 and parameters: {'classifier': 'SVC', 'svc_c': 7380567533.929173}. Best is trial 24 with value: 0.7821229050279329.\u001b[0m\n",
      "\u001b[32m[I 2021-08-03 22:07:07,542]\u001b[0m Trial 48 finished with value: 0.7765363128491619 and parameters: {'classifier': 'RandomForest', 'n_estimators': 810, 'max_depth': 45.510944079969285}. Best is trial 24 with value: 0.7821229050279329.\u001b[0m\n",
      "\u001b[32m[I 2021-08-03 22:07:11,854]\u001b[0m Trial 49 finished with value: 0.7728119180633146 and parameters: {'classifier': 'RandomForest', 'n_estimators': 720, 'max_depth': 66.29936077883148}. Best is trial 24 with value: 0.7821229050279329.\u001b[0m\n",
      "\u001b[32m[I 2021-08-03 22:07:17,453]\u001b[0m Trial 50 finished with value: 0.7728119180633147 and parameters: {'classifier': 'RandomForest', 'n_estimators': 1150, 'max_depth': 86.5127509544103}. Best is trial 24 with value: 0.7821229050279329.\u001b[0m\n",
      "\u001b[32m[I 2021-08-03 22:07:21,679]\u001b[0m Trial 51 finished with value: 0.7709497206703909 and parameters: {'classifier': 'RandomForest', 'n_estimators': 880, 'max_depth': 46.8111815245287}. Best is trial 24 with value: 0.7821229050279329.\u001b[0m\n",
      "\u001b[32m[I 2021-08-03 22:07:31,466]\u001b[0m Trial 52 finished with value: 0.7783985102420856 and parameters: {'classifier': 'RandomForest', 'n_estimators': 1890, 'max_depth': 33.810112104503936}. Best is trial 24 with value: 0.7821229050279329.\u001b[0m\n",
      "\u001b[32m[I 2021-08-03 22:07:34,406]\u001b[0m Trial 53 finished with value: 0.7746741154562384 and parameters: {'classifier': 'RandomForest', 'n_estimators': 590, 'max_depth': 49.17072253872488}. Best is trial 24 with value: 0.7821229050279329.\u001b[0m\n",
      "\u001b[32m[I 2021-08-03 22:07:40,870]\u001b[0m Trial 54 finished with value: 0.7783985102420856 and parameters: {'classifier': 'RandomForest', 'n_estimators': 1280, 'max_depth': 40.6528192700262}. Best is trial 24 with value: 0.7821229050279329.\u001b[0m\n",
      "\u001b[32m[I 2021-08-03 22:07:45,539]\u001b[0m Trial 55 finished with value: 0.7783985102420856 and parameters: {'classifier': 'RandomForest', 'n_estimators': 910, 'max_depth': 57.76813683090706}. Best is trial 24 with value: 0.7821229050279329.\u001b[0m\n",
      "\u001b[32m[I 2021-08-03 22:07:54,131]\u001b[0m Trial 56 finished with value: 0.7765363128491619 and parameters: {'classifier': 'RandomForest', 'n_estimators': 1790, 'max_depth': 36.45091861967614}. Best is trial 24 with value: 0.7821229050279329.\u001b[0m\n",
      "\u001b[32m[I 2021-08-03 22:07:58,142]\u001b[0m Trial 57 finished with value: 0.7709497206703911 and parameters: {'classifier': 'RandomForest', 'n_estimators': 710, 'max_depth': 42.335756991702944}. Best is trial 24 with value: 0.7821229050279329.\u001b[0m\n",
      "\u001b[32m[I 2021-08-03 22:07:58,245]\u001b[0m Trial 58 finished with value: 0.6536312849162011 and parameters: {'classifier': 'SVC', 'svc_c': 1260.3054680653634}. Best is trial 24 with value: 0.7821229050279329.\u001b[0m\n",
      "\u001b[32m[I 2021-08-03 22:08:03,791]\u001b[0m Trial 59 finished with value: 0.7802607076350093 and parameters: {'classifier': 'RandomForest', 'n_estimators': 920, 'max_depth': 10.92020798206358}. Best is trial 24 with value: 0.7821229050279329.\u001b[0m\n",
      "\u001b[32m[I 2021-08-03 22:08:10,850]\u001b[0m Trial 60 finished with value: 0.7728119180633147 and parameters: {'classifier': 'RandomForest', 'n_estimators': 1470, 'max_depth': 24.224699893312977}. Best is trial 24 with value: 0.7821229050279329.\u001b[0m\n",
      "\u001b[32m[I 2021-08-03 22:08:19,357]\u001b[0m Trial 61 finished with value: 0.7765363128491621 and parameters: {'classifier': 'RandomForest', 'n_estimators': 1660, 'max_depth': 13.982853012580561}. Best is trial 24 with value: 0.7821229050279329.\u001b[0m\n",
      "\u001b[32m[I 2021-08-03 22:08:23,790]\u001b[0m Trial 62 finished with value: 0.7746741154562384 and parameters: {'classifier': 'RandomForest', 'n_estimators': 920, 'max_depth': 10.345240252669385}. Best is trial 24 with value: 0.7821229050279329.\u001b[0m\n",
      "\u001b[32m[I 2021-08-03 22:08:33,580]\u001b[0m Trial 63 finished with value: 0.7746741154562383 and parameters: {'classifier': 'RandomForest', 'n_estimators': 1910, 'max_depth': 18.031551814228617}. Best is trial 24 with value: 0.7821229050279329.\u001b[0m\n",
      "\u001b[32m[I 2021-08-03 22:08:38,935]\u001b[0m Trial 64 finished with value: 0.7783985102420856 and parameters: {'classifier': 'RandomForest', 'n_estimators': 1070, 'max_depth': 12.327606840979039}. Best is trial 24 with value: 0.7821229050279329.\u001b[0m\n",
      "\u001b[32m[I 2021-08-03 22:08:44,764]\u001b[0m Trial 65 finished with value: 0.7821229050279329 and parameters: {'classifier': 'RandomForest', 'n_estimators': 1110, 'max_depth': 51.49259624937503}. Best is trial 24 with value: 0.7821229050279329.\u001b[0m\n",
      "\u001b[32m[I 2021-08-03 22:08:46,938]\u001b[0m Trial 66 finished with value: 0.7728119180633147 and parameters: {'classifier': 'RandomForest', 'n_estimators': 360, 'max_depth': 38.91435666705112}. Best is trial 24 with value: 0.7821229050279329.\u001b[0m\n",
      "\u001b[32m[I 2021-08-03 22:08:53,117]\u001b[0m Trial 67 finished with value: 0.7690875232774674 and parameters: {'classifier': 'RandomForest', 'n_estimators': 1130, 'max_depth': 52.22340174278454}. Best is trial 24 with value: 0.7821229050279329.\u001b[0m\n",
      "\u001b[32m[I 2021-08-03 22:08:59,414]\u001b[0m Trial 68 finished with value: 0.7690875232774674 and parameters: {'classifier': 'RandomForest', 'n_estimators': 1240, 'max_depth': 45.35437347946834}. Best is trial 24 with value: 0.7821229050279329.\u001b[0m\n",
      "\u001b[32m[I 2021-08-03 22:08:59,487]\u001b[0m Trial 69 finished with value: 0.6536312849162011 and parameters: {'classifier': 'SVC', 'svc_c': 9.909172169088993e-06}. Best is trial 24 with value: 0.7821229050279329.\u001b[0m\n"
     ]
    },
    {
     "name": "stderr",
     "output_type": "stream",
     "text": [
      "\u001b[32m[I 2021-08-03 22:09:04,414]\u001b[0m Trial 70 finished with value: 0.7690875232774674 and parameters: {'classifier': 'RandomForest', 'n_estimators': 940, 'max_depth': 42.996260153076605}. Best is trial 24 with value: 0.7821229050279329.\u001b[0m\n",
      "\u001b[32m[I 2021-08-03 22:09:08,526]\u001b[0m Trial 71 finished with value: 0.7821229050279329 and parameters: {'classifier': 'RandomForest', 'n_estimators': 980, 'max_depth': 54.43790748594871}. Best is trial 24 with value: 0.7821229050279329.\u001b[0m\n",
      "\u001b[32m[I 2021-08-03 22:09:13,084]\u001b[0m Trial 72 finished with value: 0.7765363128491619 and parameters: {'classifier': 'RandomForest', 'n_estimators': 990, 'max_depth': 60.56765467334256}. Best is trial 24 with value: 0.7821229050279329.\u001b[0m\n",
      "\u001b[32m[I 2021-08-03 22:09:20,409]\u001b[0m Trial 73 finished with value: 0.7690875232774674 and parameters: {'classifier': 'RandomForest', 'n_estimators': 1560, 'max_depth': 32.25781249510856}. Best is trial 24 with value: 0.7821229050279329.\u001b[0m\n",
      "\u001b[32m[I 2021-08-03 22:09:27,237]\u001b[0m Trial 74 finished with value: 0.7690875232774674 and parameters: {'classifier': 'RandomForest', 'n_estimators': 790, 'max_depth': 48.91466107755614}. Best is trial 24 with value: 0.7821229050279329.\u001b[0m\n",
      "\u001b[32m[I 2021-08-03 22:09:34,487]\u001b[0m Trial 75 finished with value: 0.7709497206703911 and parameters: {'classifier': 'RandomForest', 'n_estimators': 1360, 'max_depth': 27.74994039463617}. Best is trial 24 with value: 0.7821229050279329.\u001b[0m\n",
      "\u001b[32m[I 2021-08-03 22:09:39,697]\u001b[0m Trial 76 finished with value: 0.7709497206703911 and parameters: {'classifier': 'RandomForest', 'n_estimators': 1070, 'max_depth': 35.83658194800713}. Best is trial 24 with value: 0.7821229050279329.\u001b[0m\n",
      "\u001b[32m[I 2021-08-03 22:09:44,383]\u001b[0m Trial 77 finished with value: 0.7690875232774674 and parameters: {'classifier': 'RandomForest', 'n_estimators': 980, 'max_depth': 55.520322163676866}. Best is trial 24 with value: 0.7821229050279329.\u001b[0m\n",
      "\u001b[32m[I 2021-08-03 22:09:51,182]\u001b[0m Trial 78 finished with value: 0.7709497206703911 and parameters: {'classifier': 'RandomForest', 'n_estimators': 1220, 'max_depth': 61.56129508912031}. Best is trial 24 with value: 0.7821229050279329.\u001b[0m\n",
      "\u001b[32m[I 2021-08-03 22:10:00,498]\u001b[0m Trial 79 finished with value: 0.7690875232774674 and parameters: {'classifier': 'RandomForest', 'n_estimators': 1950, 'max_depth': 42.638129628083846}. Best is trial 24 with value: 0.7821229050279329.\u001b[0m\n",
      "\u001b[32m[I 2021-08-03 22:10:03,576]\u001b[0m Trial 80 finished with value: 0.7690875232774674 and parameters: {'classifier': 'RandomForest', 'n_estimators': 670, 'max_depth': 71.51193319031029}. Best is trial 24 with value: 0.7821229050279329.\u001b[0m\n",
      "\u001b[32m[I 2021-08-03 22:10:08,462]\u001b[0m Trial 81 finished with value: 0.7728119180633147 and parameters: {'classifier': 'RandomForest', 'n_estimators': 840, 'max_depth': 53.41557111831035}. Best is trial 24 with value: 0.7821229050279329.\u001b[0m\n",
      "\u001b[32m[I 2021-08-03 22:10:18,413]\u001b[0m Trial 82 finished with value: 0.7765363128491619 and parameters: {'classifier': 'RandomForest', 'n_estimators': 1840, 'max_depth': 29.511538345527285}. Best is trial 24 with value: 0.7821229050279329.\u001b[0m\n",
      "\u001b[32m[I 2021-08-03 22:10:25,581]\u001b[0m Trial 83 finished with value: 0.7746741154562383 and parameters: {'classifier': 'RandomForest', 'n_estimators': 1110, 'max_depth': 48.273338337990765}. Best is trial 24 with value: 0.7821229050279329.\u001b[0m\n",
      "\u001b[32m[I 2021-08-03 22:10:34,734]\u001b[0m Trial 84 finished with value: 0.7690875232774674 and parameters: {'classifier': 'RandomForest', 'n_estimators': 1690, 'max_depth': 39.978988468177704}. Best is trial 24 with value: 0.7821229050279329.\u001b[0m\n",
      "\u001b[32m[I 2021-08-03 22:10:34,826]\u001b[0m Trial 85 finished with value: 0.6536312849162011 and parameters: {'classifier': 'SVC', 'svc_c': 1888466.1989750545}. Best is trial 24 with value: 0.7821229050279329.\u001b[0m\n",
      "\u001b[32m[I 2021-08-03 22:10:40,141]\u001b[0m Trial 86 finished with value: 0.7839851024208566 and parameters: {'classifier': 'RandomForest', 'n_estimators': 970, 'max_depth': 69.82218139852151}. Best is trial 86 with value: 0.7839851024208566.\u001b[0m\n",
      "\u001b[32m[I 2021-08-03 22:10:44,351]\u001b[0m Trial 87 finished with value: 0.7783985102420856 and parameters: {'classifier': 'RandomForest', 'n_estimators': 870, 'max_depth': 81.2727320371111}. Best is trial 86 with value: 0.7839851024208566.\u001b[0m\n",
      "\u001b[32m[I 2021-08-03 22:10:49,278]\u001b[0m Trial 88 finished with value: 0.7783985102420856 and parameters: {'classifier': 'RandomForest', 'n_estimators': 1060, 'max_depth': 91.23395428795655}. Best is trial 86 with value: 0.7839851024208566.\u001b[0m\n",
      "\u001b[32m[I 2021-08-03 22:10:54,497]\u001b[0m Trial 89 finished with value: 0.7672253258845437 and parameters: {'classifier': 'RandomForest', 'n_estimators': 980, 'max_depth': 25.830760762194878}. Best is trial 86 with value: 0.7839851024208566.\u001b[0m\n",
      "\u001b[32m[I 2021-08-03 22:10:59,846]\u001b[0m Trial 90 finished with value: 0.7672253258845437 and parameters: {'classifier': 'RandomForest', 'n_estimators': 1170, 'max_depth': 71.11701027258586}. Best is trial 86 with value: 0.7839851024208566.\u001b[0m\n",
      "\u001b[32m[I 2021-08-03 22:11:09,322]\u001b[0m Trial 91 finished with value: 0.7802607076350093 and parameters: {'classifier': 'RandomForest', 'n_estimators': 1790, 'max_depth': 37.95635610631895}. Best is trial 86 with value: 0.7839851024208566.\u001b[0m\n",
      "\u001b[32m[I 2021-08-03 22:11:14,185]\u001b[0m Trial 92 finished with value: 0.7690875232774674 and parameters: {'classifier': 'RandomForest', 'n_estimators': 940, 'max_depth': 51.33787039919409}. Best is trial 86 with value: 0.7839851024208566.\u001b[0m\n",
      "\u001b[32m[I 2021-08-03 22:11:17,804]\u001b[0m Trial 93 finished with value: 0.7783985102420856 and parameters: {'classifier': 'RandomForest', 'n_estimators': 770, 'max_depth': 44.542501746842866}. Best is trial 86 with value: 0.7839851024208566.\u001b[0m\n",
      "\u001b[32m[I 2021-08-03 22:11:26,564]\u001b[0m Trial 94 finished with value: 0.7709497206703911 and parameters: {'classifier': 'RandomForest', 'n_estimators': 1730, 'max_depth': 38.005599220225236}. Best is trial 86 with value: 0.7839851024208566.\u001b[0m\n",
      "\u001b[32m[I 2021-08-03 22:11:35,634]\u001b[0m Trial 95 finished with value: 0.7765363128491621 and parameters: {'classifier': 'RandomForest', 'n_estimators': 1950, 'max_depth': 58.21300286708819}. Best is trial 86 with value: 0.7839851024208566.\u001b[0m\n",
      "\u001b[32m[I 2021-08-03 22:11:44,515]\u001b[0m Trial 96 finished with value: 0.7728119180633147 and parameters: {'classifier': 'RandomForest', 'n_estimators': 1800, 'max_depth': 33.05452259434481}. Best is trial 86 with value: 0.7839851024208566.\u001b[0m\n",
      "\u001b[32m[I 2021-08-03 22:11:49,558]\u001b[0m Trial 97 finished with value: 0.7746741154562384 and parameters: {'classifier': 'RandomForest', 'n_estimators': 1010, 'max_depth': 47.344644983883995}. Best is trial 86 with value: 0.7839851024208566.\u001b[0m\n",
      "\u001b[32m[I 2021-08-03 22:11:59,364]\u001b[0m Trial 98 finished with value: 0.7765363128491621 and parameters: {'classifier': 'RandomForest', 'n_estimators': 1910, 'max_depth': 16.812022062523692}. Best is trial 86 with value: 0.7839851024208566.\u001b[0m\n",
      "\u001b[32m[I 2021-08-03 22:11:59,431]\u001b[0m Trial 99 finished with value: 0.6536312849162011 and parameters: {'classifier': 'SVC', 'svc_c': 3.4705322259452106e-07}. Best is trial 86 with value: 0.7839851024208566.\u001b[0m\n"
     ]
    },
    {
     "name": "stdout",
     "output_type": "stream",
     "text": [
      "Accuracy: 0.7839851024208566\n",
      "Best hyperparameters: {'classifier': 'RandomForest', 'n_estimators': 970, 'max_depth': 69.82218139852151}\n"
     ]
    }
   ],
   "source": [
    "study = optuna.create_study(direction='maximize')\n",
    "study.optimize(objective, n_trials=100)\n",
    "\n",
    "trial = study.best_trial\n",
    "\n",
    "print('Accuracy: {}'.format(trial.value))\n",
    "print(\"Best hyperparameters: {}\".format(trial.params))"
   ]
  },
  {
   "cell_type": "code",
   "execution_count": 20,
   "id": "2ab869b5",
   "metadata": {},
   "outputs": [
    {
     "data": {
      "text/plain": [
       "FrozenTrial(number=86, values=[0.7839851024208566], datetime_start=datetime.datetime(2021, 8, 3, 22, 10, 34, 827410), datetime_complete=datetime.datetime(2021, 8, 3, 22, 10, 40, 140769), params={'classifier': 'RandomForest', 'n_estimators': 970, 'max_depth': 69.82218139852151}, distributions={'classifier': CategoricalDistribution(choices=('RandomForest', 'SVC')), 'n_estimators': IntUniformDistribution(high=2000, low=200, step=10), 'max_depth': LogUniformDistribution(high=100.0, low=10.0)}, user_attrs={}, system_attrs={}, intermediate_values={}, trial_id=86, state=TrialState.COMPLETE, value=None)"
      ]
     },
     "execution_count": 20,
     "metadata": {},
     "output_type": "execute_result"
    }
   ],
   "source": [
    "trial"
   ]
  },
  {
   "cell_type": "code",
   "execution_count": 21,
   "id": "a51a259a",
   "metadata": {},
   "outputs": [
    {
     "data": {
      "text/plain": [
       "{'classifier': 'RandomForest',\n",
       " 'n_estimators': 970,\n",
       " 'max_depth': 69.82218139852151}"
      ]
     },
     "execution_count": 21,
     "metadata": {},
     "output_type": "execute_result"
    }
   ],
   "source": [
    "study.best_params"
   ]
  },
  {
   "cell_type": "code",
   "execution_count": 24,
   "id": "e9b976ae",
   "metadata": {},
   "outputs": [
    {
     "data": {
      "text/plain": [
       "RandomForestClassifier(max_depth=30, n_estimators=330)"
      ]
     },
     "execution_count": 24,
     "metadata": {},
     "output_type": "execute_result"
    }
   ],
   "source": [
    "rf=RandomForestClassifier(n_estimators=330,max_depth=30)\n",
    "rf.fit(X_train,y_train)"
   ]
  },
  {
   "cell_type": "code",
   "execution_count": 28,
   "id": "cb0c8c02",
   "metadata": {},
   "outputs": [
    {
     "name": "stdout",
     "output_type": "stream",
     "text": [
      "[[118  31]\n",
      " [ 30  52]]\n",
      "0.7359307359307359\n",
      "              precision    recall  f1-score   support\n",
      "\n",
      "           0       0.80      0.79      0.79       149\n",
      "           1       0.63      0.63      0.63        82\n",
      "\n",
      "    accuracy                           0.74       231\n",
      "   macro avg       0.71      0.71      0.71       231\n",
      "weighted avg       0.74      0.74      0.74       231\n",
      "\n"
     ]
    }
   ],
   "source": [
    "y_pred=rf.predict(X_test)\n",
    "print(confusion_matrix(y_test,y_pred))\n",
    "print(accuracy_score(y_test,y_pred))\n",
    "print(classification_report(y_test,y_pred))"
   ]
  },
  {
   "cell_type": "code",
   "execution_count": null,
   "id": "db37a876",
   "metadata": {},
   "outputs": [],
   "source": []
  },
  {
   "cell_type": "code",
   "execution_count": null,
   "id": "06345c56",
   "metadata": {},
   "outputs": [],
   "source": []
  },
  {
   "cell_type": "code",
   "execution_count": null,
   "id": "09a8f13a",
   "metadata": {},
   "outputs": [],
   "source": []
  },
  {
   "cell_type": "code",
   "execution_count": null,
   "id": "524e6cd1",
   "metadata": {},
   "outputs": [],
   "source": []
  },
  {
   "cell_type": "code",
   "execution_count": null,
   "id": "424d2752",
   "metadata": {},
   "outputs": [],
   "source": []
  },
  {
   "cell_type": "code",
   "execution_count": null,
   "id": "bd815ec0",
   "metadata": {},
   "outputs": [],
   "source": []
  },
  {
   "cell_type": "code",
   "execution_count": null,
   "id": "29a73663",
   "metadata": {},
   "outputs": [],
   "source": []
  },
  {
   "cell_type": "code",
   "execution_count": null,
   "id": "7005863b",
   "metadata": {},
   "outputs": [],
   "source": []
  },
  {
   "cell_type": "code",
   "execution_count": null,
   "id": "6886cc00",
   "metadata": {},
   "outputs": [],
   "source": []
  },
  {
   "cell_type": "code",
   "execution_count": null,
   "id": "f295c508",
   "metadata": {},
   "outputs": [],
   "source": []
  }
 ],
 "metadata": {
  "kernelspec": {
   "display_name": "Python 3",
   "language": "python",
   "name": "python3"
  },
  "language_info": {
   "codemirror_mode": {
    "name": "ipython",
    "version": 3
   },
   "file_extension": ".py",
   "mimetype": "text/x-python",
   "name": "python",
   "nbconvert_exporter": "python",
   "pygments_lexer": "ipython3",
   "version": "3.8.10"
  }
 },
 "nbformat": 4,
 "nbformat_minor": 5
}
